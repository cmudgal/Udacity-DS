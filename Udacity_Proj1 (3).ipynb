{
 "cells": [
  {
   "cell_type": "code",
   "execution_count": 1,
   "metadata": {},
   "outputs": [],
   "source": [
    "# Import libraries\n",
    "import pandas as pd\n",
    "from sklearn.metrics import r2_score, mean_squared_error\n",
    "from sklearn.model_selection import train_test_split\n",
    "import numpy as np\n",
    "from sklearn.linear_model import LinearRegression\n",
    "import matplotlib.pyplot as plt\n",
    "import seaborn as sns\n",
    "\n"
   ]
  },
  {
   "cell_type": "code",
   "execution_count": 2,
   "metadata": {},
   "outputs": [],
   "source": [
    "# Read/load Data for Airbnb in the cities of Boston and Seattle\n",
    "# boston. This dataset has been obtained from Kaggle\n",
    "boston_calendar = pd.read_csv('./boston_calendar.csv')\n",
    "boston_listings = pd.read_csv('./boston_listings.csv')\n",
    "boston_review =  pd.read_csv('./boston_reviews.csv')\n",
    "\n",
    "# seattle\n",
    "seattle_calendar = pd.read_csv('./seattle_calendar.csv')\n",
    "seattle_listings = pd.read_csv('./seattle_listings.csv')\n",
    "seattle_review = pd.read_csv('./seattle_reviews.csv')"
   ]
  },
  {
   "cell_type": "code",
   "execution_count": 3,
   "metadata": {},
   "outputs": [
    {
     "data": {
      "text/html": [
       "<div>\n",
       "<style scoped>\n",
       "    .dataframe tbody tr th:only-of-type {\n",
       "        vertical-align: middle;\n",
       "    }\n",
       "\n",
       "    .dataframe tbody tr th {\n",
       "        vertical-align: top;\n",
       "    }\n",
       "\n",
       "    .dataframe thead th {\n",
       "        text-align: right;\n",
       "    }\n",
       "</style>\n",
       "<table border=\"1\" class=\"dataframe\">\n",
       "  <thead>\n",
       "    <tr style=\"text-align: right;\">\n",
       "      <th></th>\n",
       "      <th>listing_id</th>\n",
       "      <th>date</th>\n",
       "      <th>available</th>\n",
       "      <th>price</th>\n",
       "    </tr>\n",
       "  </thead>\n",
       "  <tbody>\n",
       "    <tr>\n",
       "      <th>0</th>\n",
       "      <td>12147973</td>\n",
       "      <td>2017-09-05</td>\n",
       "      <td>f</td>\n",
       "      <td>NaN</td>\n",
       "    </tr>\n",
       "    <tr>\n",
       "      <th>1</th>\n",
       "      <td>12147973</td>\n",
       "      <td>2017-09-04</td>\n",
       "      <td>f</td>\n",
       "      <td>NaN</td>\n",
       "    </tr>\n",
       "    <tr>\n",
       "      <th>2</th>\n",
       "      <td>12147973</td>\n",
       "      <td>2017-09-03</td>\n",
       "      <td>f</td>\n",
       "      <td>NaN</td>\n",
       "    </tr>\n",
       "    <tr>\n",
       "      <th>3</th>\n",
       "      <td>12147973</td>\n",
       "      <td>2017-09-02</td>\n",
       "      <td>f</td>\n",
       "      <td>NaN</td>\n",
       "    </tr>\n",
       "    <tr>\n",
       "      <th>4</th>\n",
       "      <td>12147973</td>\n",
       "      <td>2017-09-01</td>\n",
       "      <td>f</td>\n",
       "      <td>NaN</td>\n",
       "    </tr>\n",
       "  </tbody>\n",
       "</table>\n",
       "</div>"
      ],
      "text/plain": [
       "   listing_id        date available price\n",
       "0    12147973  2017-09-05         f   NaN\n",
       "1    12147973  2017-09-04         f   NaN\n",
       "2    12147973  2017-09-03         f   NaN\n",
       "3    12147973  2017-09-02         f   NaN\n",
       "4    12147973  2017-09-01         f   NaN"
      ]
     },
     "execution_count": 3,
     "metadata": {},
     "output_type": "execute_result"
    }
   ],
   "source": [
    "# Display Boston Data\n",
    "boston_calendar.head()\n",
    "# This contains the availability date and the price if the listing is available\n"
   ]
  },
  {
   "cell_type": "code",
   "execution_count": 4,
   "metadata": {},
   "outputs": [],
   "source": [
    "boston_calendar_num_rows = boston_calendar.shape[0] \n",
    "#Provide the number of rows in the boston dataset\n",
    "boston_calendar_num_cols = boston_calendar.shape[1] \n",
    "#Provide the number of columns in the boston dataset\n",
    "\n",
    "# provide set of columns with no null values\n",
    "no_nulls = set(boston_calendar.columns[boston_calendar.isnull().mean()==0])\n",
    "\n",
    "most_missing_cols = set(boston_calendar.columns[boston_calendar.isnull().mean() > 0.75])\n",
    "#Provide a set of columns with more than 75% of the values missing\n"
   ]
  },
  {
   "cell_type": "code",
   "execution_count": 5,
   "metadata": {},
   "outputs": [],
   "source": [
    "boston_listings.head()\n",
    "# This describes all the listing information\n",
    "boston_listings_num_rows = boston_listings.shape[0] #Provide the number of rows in the dataset\n",
    "boston_listings_num_cols = boston_listings.shape[1] #Provide the number of columns in the dataset\n",
    "\n",
    "\n",
    "no_nulls = set(boston_listings.columns[boston_listings.isnull().mean()==0])#Provide a set of columns with 0 missing values.\n",
    "\n",
    "most_missing_cols = set(boston_listings.columns[boston_listings.isnull().mean() > 0.75])#Provide a set of columns with more than 75% of the values missing\n"
   ]
  },
  {
   "cell_type": "code",
   "execution_count": 6,
   "metadata": {},
   "outputs": [
    {
     "data": {
      "text/html": [
       "<div>\n",
       "<style scoped>\n",
       "    .dataframe tbody tr th:only-of-type {\n",
       "        vertical-align: middle;\n",
       "    }\n",
       "\n",
       "    .dataframe tbody tr th {\n",
       "        vertical-align: top;\n",
       "    }\n",
       "\n",
       "    .dataframe thead th {\n",
       "        text-align: right;\n",
       "    }\n",
       "</style>\n",
       "<table border=\"1\" class=\"dataframe\">\n",
       "  <thead>\n",
       "    <tr style=\"text-align: right;\">\n",
       "      <th></th>\n",
       "      <th>listing_id</th>\n",
       "      <th>id</th>\n",
       "      <th>date</th>\n",
       "      <th>reviewer_id</th>\n",
       "      <th>reviewer_name</th>\n",
       "      <th>comments</th>\n",
       "    </tr>\n",
       "  </thead>\n",
       "  <tbody>\n",
       "    <tr>\n",
       "      <th>0</th>\n",
       "      <td>1178162</td>\n",
       "      <td>4724140</td>\n",
       "      <td>2013-05-21</td>\n",
       "      <td>4298113</td>\n",
       "      <td>Olivier</td>\n",
       "      <td>My stay at islam's place was really cool! Good...</td>\n",
       "    </tr>\n",
       "    <tr>\n",
       "      <th>1</th>\n",
       "      <td>1178162</td>\n",
       "      <td>4869189</td>\n",
       "      <td>2013-05-29</td>\n",
       "      <td>6452964</td>\n",
       "      <td>Charlotte</td>\n",
       "      <td>Great location for both airport and city - gre...</td>\n",
       "    </tr>\n",
       "    <tr>\n",
       "      <th>2</th>\n",
       "      <td>1178162</td>\n",
       "      <td>5003196</td>\n",
       "      <td>2013-06-06</td>\n",
       "      <td>6449554</td>\n",
       "      <td>Sebastian</td>\n",
       "      <td>We really enjoyed our stay at Islams house. Fr...</td>\n",
       "    </tr>\n",
       "    <tr>\n",
       "      <th>3</th>\n",
       "      <td>1178162</td>\n",
       "      <td>5150351</td>\n",
       "      <td>2013-06-15</td>\n",
       "      <td>2215611</td>\n",
       "      <td>Marine</td>\n",
       "      <td>The room was nice and clean and so were the co...</td>\n",
       "    </tr>\n",
       "    <tr>\n",
       "      <th>4</th>\n",
       "      <td>1178162</td>\n",
       "      <td>5171140</td>\n",
       "      <td>2013-06-16</td>\n",
       "      <td>6848427</td>\n",
       "      <td>Andrew</td>\n",
       "      <td>Great location. Just 5 mins walk from the Airp...</td>\n",
       "    </tr>\n",
       "  </tbody>\n",
       "</table>\n",
       "</div>"
      ],
      "text/plain": [
       "   listing_id       id        date  reviewer_id reviewer_name  \\\n",
       "0     1178162  4724140  2013-05-21      4298113       Olivier   \n",
       "1     1178162  4869189  2013-05-29      6452964     Charlotte   \n",
       "2     1178162  5003196  2013-06-06      6449554     Sebastian   \n",
       "3     1178162  5150351  2013-06-15      2215611        Marine   \n",
       "4     1178162  5171140  2013-06-16      6848427        Andrew   \n",
       "\n",
       "                                            comments  \n",
       "0  My stay at islam's place was really cool! Good...  \n",
       "1  Great location for both airport and city - gre...  \n",
       "2  We really enjoyed our stay at Islams house. Fr...  \n",
       "3  The room was nice and clean and so were the co...  \n",
       "4  Great location. Just 5 mins walk from the Airp...  "
      ]
     },
     "execution_count": 6,
     "metadata": {},
     "output_type": "execute_result"
    }
   ],
   "source": [
    "boston_review.head()\n",
    "# This data is not useful for the analysis\n",
    "# This data set will not be used as it does not contain info\n",
    "# needed for analysis\n"
   ]
  },
  {
   "cell_type": "code",
   "execution_count": 7,
   "metadata": {},
   "outputs": [],
   "source": [
    "# Display Seattle Data\n",
    "\n",
    "seattle_calendar.head()\n",
    "seattle_calendar_num_rows = seattle_calendar.shape[0] #Provide the number of rows in the dataset\n",
    "seattle_calendar_num_cols = seattle_calendar.shape[1] #Provide the number of columns in the dataset\n",
    "\n",
    "# columns with no missing values\n",
    "no_nulls = set(seattle_calendar.columns[seattle_calendar.isnull().mean()==0])#Provide a set of columns with 0 missing values.\n",
    "\n",
    "# columns with 75% values missing\n",
    "most_missing_cols = set(seattle_calendar.columns[seattle_calendar.isnull().mean() > 0.75])#Provide a set of columns with more than 75% of the values missing\n",
    "\n"
   ]
  },
  {
   "cell_type": "code",
   "execution_count": 8,
   "metadata": {},
   "outputs": [],
   "source": [
    "# Look into Seattle dataset\n",
    "seattle_listings.head()\n",
    "\n",
    "seattle_listings_num_rows = seattle_listings.shape[0] \n",
    "#Provide the number of rows in the dataset\n",
    "seattle_listings_num_cols = seattle_listings.shape[1]\n",
    "#Provide the number of columns in the dataset\n",
    "\n",
    "# columns with no missing values\n",
    "no_nulls = set(seattle_listings.columns[seattle_listings.isnull().mean()==0])#Provide a set of columns with 0 missing values.\n",
    "\n",
    "# columns with over 75% values missing\n",
    "most_missing_cols = set(seattle_listings.columns[seattle_listings.isnull().mean() > 0.75])#Provide a set of columns with more than 75% of the values missing\n",
    "\n"
   ]
  },
  {
   "cell_type": "code",
   "execution_count": 9,
   "metadata": {},
   "outputs": [
    {
     "data": {
      "text/html": [
       "<div>\n",
       "<style scoped>\n",
       "    .dataframe tbody tr th:only-of-type {\n",
       "        vertical-align: middle;\n",
       "    }\n",
       "\n",
       "    .dataframe tbody tr th {\n",
       "        vertical-align: top;\n",
       "    }\n",
       "\n",
       "    .dataframe thead th {\n",
       "        text-align: right;\n",
       "    }\n",
       "</style>\n",
       "<table border=\"1\" class=\"dataframe\">\n",
       "  <thead>\n",
       "    <tr style=\"text-align: right;\">\n",
       "      <th></th>\n",
       "      <th>listing_id</th>\n",
       "      <th>id</th>\n",
       "      <th>date</th>\n",
       "      <th>reviewer_id</th>\n",
       "      <th>reviewer_name</th>\n",
       "      <th>comments</th>\n",
       "    </tr>\n",
       "  </thead>\n",
       "  <tbody>\n",
       "    <tr>\n",
       "      <th>0</th>\n",
       "      <td>7202016</td>\n",
       "      <td>38917982</td>\n",
       "      <td>2015-07-19</td>\n",
       "      <td>28943674</td>\n",
       "      <td>Bianca</td>\n",
       "      <td>Cute and cozy place. Perfect location to every...</td>\n",
       "    </tr>\n",
       "    <tr>\n",
       "      <th>1</th>\n",
       "      <td>7202016</td>\n",
       "      <td>39087409</td>\n",
       "      <td>2015-07-20</td>\n",
       "      <td>32440555</td>\n",
       "      <td>Frank</td>\n",
       "      <td>Kelly has a great room in a very central locat...</td>\n",
       "    </tr>\n",
       "    <tr>\n",
       "      <th>2</th>\n",
       "      <td>7202016</td>\n",
       "      <td>39820030</td>\n",
       "      <td>2015-07-26</td>\n",
       "      <td>37722850</td>\n",
       "      <td>Ian</td>\n",
       "      <td>Very spacious apartment, and in a great neighb...</td>\n",
       "    </tr>\n",
       "    <tr>\n",
       "      <th>3</th>\n",
       "      <td>7202016</td>\n",
       "      <td>40813543</td>\n",
       "      <td>2015-08-02</td>\n",
       "      <td>33671805</td>\n",
       "      <td>George</td>\n",
       "      <td>Close to Seattle Center and all it has to offe...</td>\n",
       "    </tr>\n",
       "    <tr>\n",
       "      <th>4</th>\n",
       "      <td>7202016</td>\n",
       "      <td>41986501</td>\n",
       "      <td>2015-08-10</td>\n",
       "      <td>34959538</td>\n",
       "      <td>Ming</td>\n",
       "      <td>Kelly was a great host and very accommodating ...</td>\n",
       "    </tr>\n",
       "  </tbody>\n",
       "</table>\n",
       "</div>"
      ],
      "text/plain": [
       "   listing_id        id        date  reviewer_id reviewer_name  \\\n",
       "0     7202016  38917982  2015-07-19     28943674        Bianca   \n",
       "1     7202016  39087409  2015-07-20     32440555         Frank   \n",
       "2     7202016  39820030  2015-07-26     37722850           Ian   \n",
       "3     7202016  40813543  2015-08-02     33671805        George   \n",
       "4     7202016  41986501  2015-08-10     34959538          Ming   \n",
       "\n",
       "                                            comments  \n",
       "0  Cute and cozy place. Perfect location to every...  \n",
       "1  Kelly has a great room in a very central locat...  \n",
       "2  Very spacious apartment, and in a great neighb...  \n",
       "3  Close to Seattle Center and all it has to offe...  \n",
       "4  Kelly was a great host and very accommodating ...  "
      ]
     },
     "execution_count": 9,
     "metadata": {},
     "output_type": "execute_result"
    }
   ],
   "source": [
    "seattle_review.head()\n",
    "#This shows the review date, reviewer name and the comments for the listing\n",
    "# Not using this data for analysis."
   ]
  },
  {
   "cell_type": "code",
   "execution_count": 10,
   "metadata": {},
   "outputs": [],
   "source": [
    "# Data Cleaning and Wrangling\n",
    "# Find missing data in Boston dataset\n",
    "\n",
    "# Remove unnecceassary data not required for analysis in both the datasets\n",
    "\n",
    "notreqd = ['listing_url','scrape_id','last_scraped',\n",
    " 'name','summary','space','description','experiences_offered','neighborhood_overview','notes','transit',\n",
    " 'thumbnail_url', 'medium_url','picture_url','xl_picture_url', 'host_id','host_url','host_name','host_since',\n",
    " 'host_location','host_about','host_response_time','host_response_rate','host_acceptance_rate', 'host_is_superhost',\n",
    " 'host_thumbnail_url', 'host_picture_url', 'host_neighbourhood', 'host_listings_count', 'host_total_listings_count',\n",
    " 'host_verifications','host_has_profile_pic', 'host_identity_verified', 'street', 'neighbourhood','neighbourhood_cleansed','neighbourhood_group_cleansed','state','market',\n",
    " 'smart_location','country_code', 'country','latitude','longitude','is_location_exact',\n",
    " 'square_feet','weekly_price', 'monthly_price', 'security_deposit',\n",
    " 'guests_included','review_scores_rating', 'review_scores_accuracy','review_scores_cleanliness','review_scores_checkin','review_scores_communication','review_scores_location','review_scores_value',\n",
    " 'requires_license','license', 'jurisdiction_names', 'instant_bookable', 'require_guest_profile_picture', 'require_guest_phone_verification', 'calculated_host_listings_count',\n",
    " 'reviews_per_month','availability_30','availability_60', 'availability_90', 'availability_365', 'calendar_last_scraped', 'number_of_reviews', 'first_review', 'last_review',]\n",
    "        \n",
    "\n",
    "boston_listings.drop(notreqd,axis=1,inplace=True)\n",
    "seattle_listings.drop(notreqd,axis=1,inplace=True)\n",
    "\n",
    "\n",
    "# ************* Clean Boston Data ***************\n",
    "\n",
    "\n",
    "# rename id to listing_id so that it can be merged later on with \n",
    "# the calendar dataset \n",
    "boston_listings.rename(columns= {\"id\":\"listing_id\"}, inplace=True)\n",
    "boston_calendar.rename(columns={\"price\":\"cleaned_price\"},inplace=True)\n",
    "\n",
    "\n",
    "# clean % and $ sign from the price and rate columns\n",
    "boston_calendar.replace({\"\\\\$\":\"\",\"\\\\%\":\"\",\"\\\\,\":\"\"},inplace=True,regex=True)\n",
    "boston_listings.replace({\"\\\\$\":\"\",\"\\\\%\":\"\",\"\\\\,\":\"\"},inplace=True,regex=True)\n",
    "boston_calendar.cleaned_price = boston_calendar.cleaned_price.astype(float)\n",
    "boston_calendar.sort_values(['listing_id'],inplace=True)\n",
    "\n",
    "# impute and fill the missing values\n",
    "boston_calendar['cleaned_price'].fillna(method='bfill', inplace=True)\n",
    "boston_calendar['cleaned_price'].fillna(method='ffill', inplace=True)\n",
    "boston_listings['price'] = boston_listings['price'].str.replace('$', '')\n",
    "boston_listings['cleaning_fee'] = boston_listings['cleaning_fee'].str.replace('$', '')\n",
    "boston_listings['price'] = boston_listings['price'].str.replace(',', '')\n",
    "boston_listings[\"zipcode\"] = boston_listings[\"zipcode\"].str.replace(' 02111','')\n",
    "boston_listings[\"zipcode\"] = boston_listings[\"zipcode\"].str.replace('-1704','')\n",
    "\n",
    "\n",
    "# Convert str data to numeric datatype\n",
    "boston_listings[\"accommodates\"]=pd.to_numeric(boston_listings[\"accommodates\"])\n",
    "#boston_listings[\"property_type\"]=pd.to_numeric(boston_listings[\"property_type\"])\n",
    "boston_listings[\"cleaning_fee\"]=pd.to_numeric(boston_listings[\"cleaning_fee\"])\n",
    "boston_listings[\"zipcode\"]=pd.to_numeric(boston_listings[\"zipcode\"])\n",
    "boston_listings[\"bathrooms\"]=pd.to_numeric(boston_listings[\"bathrooms\"])\n",
    "boston_listings[\"bedrooms\"]=pd.to_numeric(boston_listings[\"bedrooms\"])\n",
    "boston_listings[\"beds\"]=pd.to_numeric(boston_listings[\"beds\"])\n",
    "boston_listings['cleaning_fee'].fillna(boston_listings['cleaning_fee'].mode().iloc[0], inplace=True)\n",
    "boston_listings['zipcode'].fillna(boston_listings['zipcode'].mode().iloc[0], inplace=True)\n",
    "boston_listings['bathrooms'].fillna(boston_listings['bathrooms'].mode().iloc[0], inplace=True)\n",
    "boston_listings['bedrooms'].fillna(boston_listings['bedrooms'].mode().iloc[0], inplace=True)\n",
    "boston_listings['beds'].fillna(boston_listings['beds'].mode().iloc[0], inplace=True)\n",
    "boston_listings['property_type'].fillna(boston_listings['property_type'].mode().iloc[0], inplace=True)\n",
    "\n",
    "\n"
   ]
  },
  {
   "cell_type": "code",
   "execution_count": 11,
   "metadata": {},
   "outputs": [],
   "source": [
    "# ************* Clean Seattle dataset\n",
    "# rename id to listing_id so that it can be merged later on with \n",
    "# the calendar dataset \n",
    "seattle_listings.rename(columns= {\"id\":\"listing_id\"}, inplace=True)\n",
    "seattle_calendar.rename(columns={\"price\":\"cleaned_price\"},inplace=True)\n",
    "seattle_calendar.replace({\"\\\\$\":\"\",\"\\\\%\":\"\",\"\\\\,\":\"\"},inplace=True,regex=True)\n",
    "seattle_listings.replace({\"\\\\$\":\"\",\"\\\\%\":\"\",\"\\\\,\":\"\"},inplace=True,regex=True)\n",
    "seattle_calendar.cleaned_price = seattle_calendar.cleaned_price.astype(float)\n",
    "seattle_calendar.sort_values(['listing_id'],inplace=True)\n",
    "\n",
    "# Impute the data values\n",
    "seattle_calendar['cleaned_price'].fillna(method='bfill', inplace=True)\n",
    "seattle_calendar['cleaned_price'].fillna(method='ffill', inplace=True)\n",
    "seattle_listings['price'] = seattle_listings['price'].str.replace('$', '')\n",
    "seattle_listings['cleaning_fee'] = seattle_listings['cleaning_fee'].str.replace('$', '')\n",
    "seattle_listings['price'] = seattle_listings['price'].str.replace(',', '')\n",
    "seattle_listings[\"zipcode\"] = seattle_listings[\"zipcode\"].str.replace('99\\n','')\n",
    "    \n",
    "# Convert str data type to numeric\n",
    "seattle_listings[\"accommodates\"]=pd.to_numeric(seattle_listings[\"accommodates\"])\n",
    "#seattle_listings[\"property_type\"]=pd.to_numeric(seattle_listings[\"property_type\"])\n",
    "seattle_listings[\"cleaning_fee\"]=pd.to_numeric(seattle_listings[\"cleaning_fee\"])\n",
    "seattle_listings[\"zipcode\"]=pd.to_numeric(seattle_listings[\"zipcode\"])\n",
    "seattle_listings[\"bathrooms\"]=pd.to_numeric(seattle_listings[\"bathrooms\"])\n",
    "seattle_listings[\"bedrooms\"]=pd.to_numeric(seattle_listings[\"bedrooms\"])\n",
    "seattle_listings[\"beds\"]=pd.to_numeric(seattle_listings[\"beds\"])\n",
    "                                         \n",
    "seattle_listings['cleaning_fee'].fillna(seattle_listings['cleaning_fee'].mode().iloc[0], inplace=True)\n",
    "seattle_listings['zipcode'].fillna(seattle_listings['zipcode'].mode().iloc[0], inplace=True)\n",
    "seattle_listings['bathrooms'].fillna(seattle_listings['bathrooms'].mode().iloc[0], inplace=True)\n",
    "seattle_listings['bedrooms'].fillna(seattle_listings['bedrooms'].mode().iloc[0], inplace=True)\n",
    "seattle_listings['beds'].fillna(seattle_listings['beds'].mode().iloc[0], inplace=True)\n",
    "seattle_listings['property_type'].fillna(seattle_listings['property_type'].mode().iloc[0], inplace=True)\n"
   ]
  },
  {
   "cell_type": "code",
   "execution_count": 12,
   "metadata": {},
   "outputs": [],
   "source": [
    "# Create year, month, day and weekday columns for boston data\n",
    "boston_calendar.date = pd.to_datetime(boston_calendar.date)\n",
    "boston_calendar[\"day\"] = pd.to_datetime(boston_calendar.date).dt.day\n",
    "boston_calendar[\"month\"] = pd.to_datetime(boston_calendar.date).dt.month\n",
    "boston_calendar[\"year\"] = pd.to_datetime(boston_calendar.date).dt.year\n",
    "boston_calendar[\"weekday\"] = pd.to_datetime(boston_calendar.date).dt.weekday\n",
    "\n",
    "\n",
    "\n",
    "# Create year, month, day and weekday columns for seattle data\n",
    "seattle_calendar.date = pd.to_datetime(seattle_calendar.date)\n",
    "seattle_calendar[\"day\"] = pd.to_datetime(seattle_calendar.date).dt.day\n",
    "seattle_calendar[\"month\"] = pd.to_datetime(seattle_calendar.date).dt.month\n",
    "seattle_calendar[\"year\"] = pd.to_datetime(seattle_calendar.date).dt.year\n",
    "seattle_calendar[\"weekday\"] = pd.to_datetime(seattle_calendar.date).dt.weekday\n",
    "\n"
   ]
  },
  {
   "cell_type": "code",
   "execution_count": 13,
   "metadata": {},
   "outputs": [
    {
     "data": {
      "text/html": [
       "<div>\n",
       "<style scoped>\n",
       "    .dataframe tbody tr th:only-of-type {\n",
       "        vertical-align: middle;\n",
       "    }\n",
       "\n",
       "    .dataframe tbody tr th {\n",
       "        vertical-align: top;\n",
       "    }\n",
       "\n",
       "    .dataframe thead th {\n",
       "        text-align: right;\n",
       "    }\n",
       "</style>\n",
       "<table border=\"1\" class=\"dataframe\">\n",
       "  <thead>\n",
       "    <tr style=\"text-align: right;\">\n",
       "      <th></th>\n",
       "      <th>listing_id</th>\n",
       "      <th>date</th>\n",
       "      <th>available</th>\n",
       "      <th>cleaned_price</th>\n",
       "      <th>day</th>\n",
       "      <th>month</th>\n",
       "      <th>year</th>\n",
       "      <th>weekday</th>\n",
       "    </tr>\n",
       "  </thead>\n",
       "  <tbody>\n",
       "  </tbody>\n",
       "</table>\n",
       "</div>"
      ],
      "text/plain": [
       "Empty DataFrame\n",
       "Columns: [listing_id, date, available, cleaned_price, day, month, year, weekday]\n",
       "Index: []"
      ]
     },
     "execution_count": 13,
     "metadata": {},
     "output_type": "execute_result"
    }
   ],
   "source": [
    "boston_calendar[boston_calendar['cleaned_price'].isna() == True]\n",
    "seattle_calendar[seattle_calendar['cleaned_price'].isna() == True]"
   ]
  },
  {
   "cell_type": "code",
   "execution_count": 14,
   "metadata": {},
   "outputs": [
    {
     "data": {
      "text/html": [
       "<div>\n",
       "<style scoped>\n",
       "    .dataframe tbody tr th:only-of-type {\n",
       "        vertical-align: middle;\n",
       "    }\n",
       "\n",
       "    .dataframe tbody tr th {\n",
       "        vertical-align: top;\n",
       "    }\n",
       "\n",
       "    .dataframe thead th {\n",
       "        text-align: right;\n",
       "    }\n",
       "</style>\n",
       "<table border=\"1\" class=\"dataframe\">\n",
       "  <thead>\n",
       "    <tr style=\"text-align: right;\">\n",
       "      <th></th>\n",
       "      <th>listing_id</th>\n",
       "      <th>date</th>\n",
       "      <th>available</th>\n",
       "      <th>cleaned_price</th>\n",
       "      <th>day</th>\n",
       "      <th>month</th>\n",
       "      <th>year</th>\n",
       "      <th>weekday</th>\n",
       "    </tr>\n",
       "  </thead>\n",
       "  <tbody>\n",
       "    <tr>\n",
       "      <th>1207603</th>\n",
       "      <td>3353</td>\n",
       "      <td>2016-12-20</td>\n",
       "      <td>f</td>\n",
       "      <td>34.0</td>\n",
       "      <td>20</td>\n",
       "      <td>12</td>\n",
       "      <td>2016</td>\n",
       "      <td>1</td>\n",
       "    </tr>\n",
       "    <tr>\n",
       "      <th>1207537</th>\n",
       "      <td>3353</td>\n",
       "      <td>2017-02-24</td>\n",
       "      <td>t</td>\n",
       "      <td>34.0</td>\n",
       "      <td>24</td>\n",
       "      <td>2</td>\n",
       "      <td>2017</td>\n",
       "      <td>4</td>\n",
       "    </tr>\n",
       "    <tr>\n",
       "      <th>1207538</th>\n",
       "      <td>3353</td>\n",
       "      <td>2017-02-23</td>\n",
       "      <td>t</td>\n",
       "      <td>34.0</td>\n",
       "      <td>23</td>\n",
       "      <td>2</td>\n",
       "      <td>2017</td>\n",
       "      <td>3</td>\n",
       "    </tr>\n",
       "    <tr>\n",
       "      <th>1207539</th>\n",
       "      <td>3353</td>\n",
       "      <td>2017-02-22</td>\n",
       "      <td>t</td>\n",
       "      <td>34.0</td>\n",
       "      <td>22</td>\n",
       "      <td>2</td>\n",
       "      <td>2017</td>\n",
       "      <td>2</td>\n",
       "    </tr>\n",
       "    <tr>\n",
       "      <th>1207540</th>\n",
       "      <td>3353</td>\n",
       "      <td>2017-02-21</td>\n",
       "      <td>t</td>\n",
       "      <td>34.0</td>\n",
       "      <td>21</td>\n",
       "      <td>2</td>\n",
       "      <td>2017</td>\n",
       "      <td>1</td>\n",
       "    </tr>\n",
       "  </tbody>\n",
       "</table>\n",
       "</div>"
      ],
      "text/plain": [
       "         listing_id       date available  cleaned_price  day  month  year  \\\n",
       "1207603        3353 2016-12-20         f           34.0   20     12  2016   \n",
       "1207537        3353 2017-02-24         t           34.0   24      2  2017   \n",
       "1207538        3353 2017-02-23         t           34.0   23      2  2017   \n",
       "1207539        3353 2017-02-22         t           34.0   22      2  2017   \n",
       "1207540        3353 2017-02-21         t           34.0   21      2  2017   \n",
       "\n",
       "         weekday  \n",
       "1207603        1  \n",
       "1207537        4  \n",
       "1207538        3  \n",
       "1207539        2  \n",
       "1207540        1  "
      ]
     },
     "execution_count": 14,
     "metadata": {},
     "output_type": "execute_result"
    }
   ],
   "source": [
    "boston_calendar.head()"
   ]
  },
  {
   "cell_type": "code",
   "execution_count": 15,
   "metadata": {},
   "outputs": [
    {
     "data": {
      "text/plain": [
       "<matplotlib.axes._subplots.AxesSubplot at 0x7f10dfc03b70>"
      ]
     },
     "execution_count": 15,
     "metadata": {},
     "output_type": "execute_result"
    },
    {
     "data": {
      "image/png": "[encoded data removed]",
      "text/plain": [
       "<matplotlib.figure.Figure at 0x7f10e17f7390>"
      ]
     },
     "metadata": {
      "needs_background": "light"
     },
     "output_type": "display_data"
    }
   ],
   "source": [
    "#Analyse data\n",
    "# select one year 2016\n",
    "seattle_calendar = seattle_calendar[seattle_calendar['year'] == 2016]\n",
    "fig= plt.figure(figsize=(10,5))\n",
    "ax=fig.add_subplot(111)\n",
    "ax.set_title('seattle comparison of price over time')\n",
    "ax.set_xlabel('time')\n",
    "ax.set_ylabel('price')\n",
    "seattle_calendar.groupby('month')['cleaned_price'].mean().plot(kind='line',color='blue',ax=ax)"
   ]
  },
  {
   "cell_type": "code",
   "execution_count": 16,
   "metadata": {},
   "outputs": [
    {
     "data": {
      "text/plain": [
       "<matplotlib.axes._subplots.AxesSubplot at 0x7f10e2ad7320>"
      ]
     },
     "execution_count": 16,
     "metadata": {},
     "output_type": "execute_result"
    },
    {
     "data": {
      "image/png": "[encoded data removed]",
      "text/plain": [
       "<matplotlib.figure.Figure at 0x7f10e0ba7208>"
      ]
     },
     "metadata": {
      "needs_background": "light"
     },
     "output_type": "display_data"
    }
   ],
   "source": [
    "# select one year 2016\n",
    "boston_calendar = boston_calendar[boston_calendar['year'] == 2016]\n",
    "fig3= plt.figure(figsize=(10,5))\n",
    "ax=fig3.add_subplot(111)\n",
    "ax.set_title('Boston comparison of price over time')\n",
    "ax.set_xlabel('time')\n",
    "ax.set_ylabel('price')\n",
    "boston_calendar.groupby('month')['cleaned_price'].mean().plot(kind='line',color='blue',ax=ax)"
   ]
  },
  {
   "cell_type": "code",
   "execution_count": 17,
   "metadata": {},
   "outputs": [],
   "source": [
    "# Check non availability over time in seattle implying the bookings done\n",
    "seattle_calendar_avail = seattle_calendar[seattle_calendar['available'] == 'f']\n",
    "boston_calendar_avail = boston_calendar[boston_calendar['available']== 'f']\n",
    "\n",
    "\n",
    "# merge listings with the booked dataframe\n",
    "#print(seattle_calendar_avail.columns.values.tolist())\n",
    "#print(seattle_listings.columns.values.tolist())\n",
    "seattle_merged = pd.merge(seattle_calendar_avail, seattle_listings, on=['listing_id'])\n",
    "boston_merged = pd.merge(boston_calendar_avail, boston_listings, on=['listing_id'])"
   ]
  },
  {
   "cell_type": "code",
   "execution_count": 18,
   "metadata": {},
   "outputs": [
    {
     "data": {
      "text/plain": [
       "<matplotlib.axes._subplots.AxesSubplot at 0x7f10e1a75f60>"
      ]
     },
     "execution_count": 18,
     "metadata": {},
     "output_type": "execute_result"
    },
    {
     "data": {
      "image/png": "[encoded data removed]",
      "text/plain": [
       "<matplotlib.figure.Figure at 0x7f10e1a75fd0>"
      ]
     },
     "metadata": {
      "needs_background": "light"
     },
     "output_type": "display_data"
    }
   ],
   "source": [
    "seattle_merged['accommodates']=pd.to_numeric(seattle_listings['accommodates'])\n",
    "fig= plt.figure(figsize=(10,5))\n",
    "ax=fig.add_subplot(111)\n",
    "ax.set_title('Seattle: bookings versus month')\n",
    "ax.set_xlabel('month')\n",
    "ax.set_ylabel('bookings')\n",
    "seattle_merged.groupby('month')['accommodates'].sum().plot(kind='line',color='pink',ax=ax)"
   ]
  },
  {
   "cell_type": "code",
   "execution_count": 19,
   "metadata": {},
   "outputs": [
    {
     "data": {
      "text/plain": [
       "<matplotlib.axes._subplots.AxesSubplot at 0x7f10d85c7b00>"
      ]
     },
     "execution_count": 19,
     "metadata": {},
     "output_type": "execute_result"
    },
    {
     "data": {
      "image/png": "[encoded data removed]",
      "text/plain": [
       "<matplotlib.figure.Figure at 0x7f10e09f0ba8>"
      ]
     },
     "metadata": {
      "needs_background": "light"
     },
     "output_type": "display_data"
    }
   ],
   "source": [
    "boston_merged['accommodates']=pd.to_numeric(seattle_listings['accommodates'])\n",
    "fig= plt.figure(figsize=(10,5))\n",
    "ax=fig.add_subplot(111)\n",
    "ax.set_title('Boston: Bookings versus Month')\n",
    "ax.set_xlabel('month')\n",
    "ax.set_ylabel('bookings')\n",
    "boston_merged.groupby('month')['accommodates'].sum().plot(kind='line',color='green',ax=ax)"
   ]
  },
  {
   "cell_type": "code",
   "execution_count": 36,
   "metadata": {
    "scrolled": true
   },
   "outputs": [
    {
     "data": {
      "text/plain": [
       "<matplotlib.axes._subplots.AxesSubplot at 0x7f10e10a3a20>"
      ]
     },
     "execution_count": 36,
     "metadata": {},
     "output_type": "execute_result"
    },
    {
     "data": {
      "image/png": "[encoded data removed]",
      "text/plain": [
       "<matplotlib.figure.Figure at 0x7f10e0d6e1d0>"
      ]
     },
     "metadata": {
      "needs_background": "light"
     },
     "output_type": "display_data"
    }
   ],
   "source": [
    "fig = plt.figure(figsize=(6,2))\n",
    "ax = fig.add_subplot(111)\n",
    "ax.set_title('Seattle:  Cancellation Policy vs Bookings')\n",
    "ax.set_xlabel('number of bookings')\n",
    "ax.set_ylabel('neighbourhood')\n",
    "seattle_merged.groupby('cancellation_policy')['accommodates'].sum().plot(kind='barh', color='orange', ax=ax)"
   ]
  },
  {
   "cell_type": "code",
   "execution_count": 37,
   "metadata": {},
   "outputs": [
    {
     "data": {
      "text/plain": [
       "<matplotlib.axes._subplots.AxesSubplot at 0x7f10e0caa1d0>"
      ]
     },
     "execution_count": 37,
     "metadata": {},
     "output_type": "execute_result"
    },
    {
     "data": {
      "image/png": "[encoded data removed]",
      "text/plain": [
       "<matplotlib.figure.Figure at 0x7f10e0caa208>"
      ]
     },
     "metadata": {
      "needs_background": "light"
     },
     "output_type": "display_data"
    }
   ],
   "source": [
    "fig = plt.figure(figsize=(6,2))\n",
    "ax = fig.add_subplot(111)\n",
    "ax.set_title('Boston: Cancellation Policy vs Bookings')\n",
    "ax.set_xlabel('number of bookings')\n",
    "ax.set_ylabel('neighbourhood')\n",
    "boston_merged.groupby('cancellation_policy')['accommodates'].sum().plot(kind='barh', color='orange', ax=ax)"
   ]
  },
  {
   "cell_type": "code",
   "execution_count": 21,
   "metadata": {},
   "outputs": [],
   "source": [
    "# Modelling\n",
    "#print(seattle_merged.head())\n",
    "seattle_listings_numeric = seattle_listings[['accommodates', 'bathrooms', \n",
    "                                                   'bedrooms','beds', \n",
    "                                                   'cleaning_fee', 'price']]\n",
    "boston_listings_numeric = boston_listings[['accommodates', 'bathrooms', \n",
    "                                                   'bedrooms','beds', \n",
    "                                                   'cleaning_fee', 'price']]\n",
    "\n",
    "boston_listings_category = boston_listings[['zipcode','property_type',\n",
    "                                                     'room_type',\n",
    "                                                     'cancellation_policy']]\n",
    "seattle_listings_category = seattle_listings[['zipcode','property_type',\n",
    "                                                     'room_type',\n",
    "                                                     'cancellation_policy']]"
   ]
  },
  {
   "cell_type": "code",
   "execution_count": 22,
   "metadata": {},
   "outputs": [
    {
     "data": {
      "image/png": "[encoded data removed]",
      "text/plain": [
       "<matplotlib.figure.Figure at 0x7f10e182bd30>"
      ]
     },
     "metadata": {
      "needs_background": "light"
     },
     "output_type": "display_data"
    }
   ],
   "source": [
    "\n",
    "#Generate correlation matrix\n",
    "corrMatrix_seattle =  seattle_listings_numeric.corr()\n",
    "sns.heatmap(corrMatrix_seattle, annot=True)\n",
    "plt.show()"
   ]
  },
  {
   "cell_type": "code",
   "execution_count": 23,
   "metadata": {},
   "outputs": [
    {
     "data": {
      "image/png": "[encoded data removed]",
      "text/plain": [
       "<matplotlib.figure.Figure at 0x7f10e19ae710>"
      ]
     },
     "metadata": {
      "needs_background": "light"
     },
     "output_type": "display_data"
    }
   ],
   "source": [
    "#Generate correlation matrix\n",
    "corrMatrix_boston =  boston_listings_numeric.corr()\n",
    "sns.heatmap(corrMatrix_seattle, annot=True)\n",
    "plt.show()"
   ]
  },
  {
   "cell_type": "code",
   "execution_count": 24,
   "metadata": {},
   "outputs": [],
   "source": [
    "def dummy_func(numeric, categ, dummyVar):\n",
    "    for col in categ.columns:\n",
    "        try:\n",
    "            numeric = pd.concat([numeric, pd.getdummies(categ[col], prefix=col, prefix_sep='_', \n",
    "                                                        drop_first=True,dummyVar=dummyVar)], axis=1)\n",
    "        except:\n",
    "            continue\n",
    "            \n",
    "    return numeric        \n",
    "            \n",
    "            "
   ]
  },
  {
   "cell_type": "code",
   "execution_count": 25,
   "metadata": {},
   "outputs": [],
   "source": [
    "seattle_listings_category.head()\n",
    "\n",
    "concat_seattle = dummy_func(seattle_listings_numeric, seattle_listings_numeric, dummyVar=False)\n",
    "\n",
    "concat_boston = dummy_func(boston_listings_numeric, boston_listings_numeric, dummyVar=False)"
   ]
  },
  {
   "cell_type": "code",
   "execution_count": 27,
   "metadata": {},
   "outputs": [
    {
     "name": "stdout",
     "output_type": "stream",
     "text": [
      "The rsquared on the seattle training data was 0.5169328379843321.  The rsquared on the test data was 0.5232032312315668.\n",
      "The rsquared on the boston training data was 0.2683568457193819.  The rsquared on the test data was 0.19094627734595238.\n"
     ]
    }
   ],
   "source": [
    "def fit_linear_mod(concat_df, test_size=.3, rand_state=42):\n",
    "    '''\n",
    "    INPUT:\n",
    "    concat_df - a dataframe holding all the variables of interest\n",
    "    test_size - a float between [0,1] about what proportion of data should\n",
    "                be in the test dataset\n",
    "    rand_state - an int that is provided as the random state for splitting \n",
    "                 the data into training and test \n",
    "    \n",
    "    OUTPUT:\n",
    "    test_score - float - r2 score on the test data\n",
    "    train_score - float - r2 score on the test data\n",
    "    lm_model - model object from sklearn\n",
    "    X_train, X_test, y_train, y_test - output from sklearn train test split used for optimal model\n",
    "    '''\n",
    "    \n",
    "    X = concat_df.drop('price', axis=1)\n",
    "    y = concat_df['price']\n",
    "\n",
    "    #Split into train and test\n",
    "    X_train, X_test, y_train, y_test = train_test_split(X, y, test_size = test_size,\n",
    "                                                        random_state=rand_state) \n",
    "\n",
    "    lm_model = LinearRegression(normalize=True)\n",
    "    \n",
    "    lm_model.fit(X_train, y_train) #Fit\n",
    "\n",
    "    #Predict and score the model\n",
    "    y_train_preds = lm_model.predict(X_train) \n",
    "    y_test_preds = lm_model.predict(X_test) \n",
    "\n",
    "    train_score = r2_score(y_train, y_train_preds)\n",
    "    test_score = r2_score(y_test, y_test_preds) \n",
    "    \n",
    "    return test_score, train_score, lm_model, X_train, X_test, y_train, y_test\n",
    "\n",
    "#Testing function with the above dataset\n",
    "test_score, train_score, lm_model, X_train, X_test, y_train, y_test = fit_linear_mod(concat_seattle)\n",
    "#Print training and testing score\n",
    "print(\"The rsquared on the seattle training data was {}.  The rsquared on the test data was {}.\".\\\n",
    "      format(train_score, test_score))\n",
    "test_score, train_score, lm_model, X_train, X_test, y_train, y_test = fit_linear_mod(concat_boston)\n",
    "#Print training and testing score\n",
    "print(\"The rsquared on the boston training data was {}.  The rsquared on the test data was {}.\".\\\n",
    "      format(train_score, test_score))"
   ]
  }
 ],
 "metadata": {
  "kernelspec": {
   "display_name": "Python 3",
   "language": "python",
   "name": "python3"
  },
  "language_info": {
   "codemirror_mode": {
    "name": "ipython",
    "version": 3
   },
   "file_extension": ".py",
   "mimetype": "text/x-python",
   "name": "python",
   "nbconvert_exporter": "python",
   "pygments_lexer": "ipython3",
   "version": "3.6.3"
  }
 },
 "nbformat": 4,
 "nbformat_minor": 2
}
